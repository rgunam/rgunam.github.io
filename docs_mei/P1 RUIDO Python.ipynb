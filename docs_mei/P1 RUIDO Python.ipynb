{
 "cells": [
  {
   "cell_type": "markdown",
   "metadata": {},
   "source": [
    "# PRÁCTICA 1 MEDICIÓN E INSTRUMENTACIÓN\n",
    "# Análisis de error aleatorio y ruido "
   ]
  },
  {
   "cell_type": "markdown",
   "metadata": {},
   "source": [
    "<font color='blue' size=\"6\">ACTIVIDAD 1. Generación de una señal aleatoria</font> "
   ]
  },
  {
   "cell_type": "markdown",
   "metadata": {},
   "source": [
    "## Paso 1: Importar bibliotecas para números, matemáticas y gráficas"
   ]
  },
  {
   "cell_type": "code",
   "execution_count": null,
   "metadata": {},
   "outputs": [],
   "source": [
    "import numpy as np\n",
    "import matplotlib.pyplot as plt\n",
    "import scipy.stats\n",
    "from scipy import stats \n",
    "from scipy.stats import norm"
   ]
  },
  {
   "cell_type": "markdown",
   "metadata": {},
   "source": [
    "## Paso 2: Generar una secuencia aleatoria con $N$ muestras y distribución normal"
   ]
  },
  {
   "cell_type": "code",
   "execution_count": null,
   "metadata": {},
   "outputs": [],
   "source": [
    "N = 1024 #número de muestras\n",
    "noise = np.random.normal(0,1,1024) #secuencia aleatoria con distribución normal\n",
    "print(len(noise)) #imprime la longitud de la secuencia (para verificar)\n",
    "print(noise) #imprime los datos generados"
   ]
  },
  {
   "cell_type": "markdown",
   "metadata": {},
   "source": [
    "## Paso 3: Graficar la secuencia noise en función del número de muestras $N$"
   ]
  },
  {
   "cell_type": "code",
   "execution_count": null,
   "metadata": {},
   "outputs": [],
   "source": [
    "plt.plot(noise)\n",
    "plt.xlabel('Muestras')\n",
    "plt.ylabel('Amplitud [u.a]')"
   ]
  },
  {
   "cell_type": "code",
   "execution_count": null,
   "metadata": {},
   "outputs": [],
   "source": [
    "mu=np.mean(noise) # media\n",
    "\n",
    "sigma=np.std(noise) #desviación estándar\n",
    "\n",
    "std_err = sigma / N # error estándar\n",
    "\n",
    "print( 'media: ', mu)\n",
    "print( 'desviacion estandar: ', sigma)\n",
    "print( 'error estandar: ', std_err)"
   ]
  },
  {
   "cell_type": "code",
   "execution_count": null,
   "metadata": {},
   "outputs": [],
   "source": [
    "bins=10 # número de bins del histograma\n",
    "n,bin_positions,p = plt.hist(noise ,color = 'blue', edgecolor = 'black', bins = int(180/5)) # grafico el histograma\n",
    "\n",
    "bin_size=bin_positions[1]-bin_positions[0] # calculo el ancho de los bins del histograma\n",
    "\n",
    "x_gaussiana=np.linspace(mu-5*sigma,mu+5*sigma,num=100) # armo una lista de puntos donde quiero graficar la distribución de ajuste\n",
    "\n",
    "gaussiana=norm.pdf(x_gaussiana, mu, sigma)*N*bin_size # calculo la gaussiana que corresponde al histograma\n",
    "\n",
    "plt.plot(x_gaussiana,gaussiana,'r--', linewidth=3, label='ajuste 1') #grafico la gaussiana\n",
    "\n",
    "plt.show()"
   ]
  },
  {
   "cell_type": "markdown",
   "metadata": {},
   "source": [
    "<font color='blue' size=\"6\">ACTIVIDAD 2. Un ejemplo real: RUIDO</font> "
   ]
  },
  {
   "cell_type": "markdown",
   "metadata": {},
   "source": [
    "## La tarjeta de audio de una computadora es un dispositivo con convertidores analógico a digital (ADC) - micrófono -, y digital a analógico (DAC) - bocinas -. \n",
    "## Mediante el ADC podemos adquirir datos de señales continuas, veamos que pasa ..."
   ]
  },
  {
   "cell_type": "markdown",
   "metadata": {},
   "source": [
    "## Paso 1: Instalar el paquete asociado a la tarjeta de audio (pyaudio)"
   ]
  },
  {
   "cell_type": "code",
   "execution_count": null,
   "metadata": {},
   "outputs": [],
   "source": [
    "import sys\n",
    "!pip install pyaudio"
   ]
  },
  {
   "cell_type": "code",
   "execution_count": null,
   "metadata": {},
   "outputs": [],
   "source": [
    "import pyaudio\n",
    "import os\n",
    "import struct\n",
    "import numpy as np\n",
    "import matplotlib.pyplot as plt\n",
    "import time\n",
    "from tkinter import TclError\n",
    "\n",
    "# para observar la señal en una ventana separada\n",
    "%matplotlib tk\n",
    "\n",
    "# constants\n",
    "CHUNK = 1024 * 2             # 2048 muestras por cuadro\n",
    "FORMAT = pyaudio.paInt16     # formato de audio Entero 16 bits\n",
    "CHANNELS = 1                 # Un solo canal \n",
    "RATE = 44100                 # Frecuencia de muestreo"
   ]
  },
  {
   "cell_type": "code",
   "execution_count": null,
   "metadata": {},
   "outputs": [],
   "source": [
    "# crea una figura y sus ejes\n",
    "fig, ax = plt.subplots(1, figsize=(5, 3))"
   ]
  },
  {
   "cell_type": "code",
   "execution_count": null,
   "metadata": {},
   "outputs": [],
   "source": [
    "# instancia de una clase de pyaudio\n",
    "p = pyaudio.PyAudio()\n",
    "\n",
    "# objeto para adquisición de datos\n",
    "stream = p.open(\n",
    "    format=FORMAT,\n",
    "    channels=CHANNELS,\n",
    "    rate=RATE,\n",
    "    input=True,\n",
    "    output=True,\n",
    "    frames_per_buffer=CHUNK\n",
    ")"
   ]
  },
  {
   "cell_type": "code",
   "execution_count": null,
   "metadata": {},
   "outputs": [],
   "source": [
    "# variable para graficar\n",
    "x = np.arange(0, 2 * CHUNK, 2)\n",
    "\n",
    "# inicia la grafica con una señal aleatoria\n",
    "line, = ax.plot(x, np.random.rand(CHUNK), '-', lw=2)\n",
    "\n",
    "# formato de los ejes de la grafica\n",
    "ax.set_title('Señal de audio')\n",
    "ax.set_xlabel('Muestras')\n",
    "ax.set_ylabel('Amplitud')\n",
    "ax.set_ylim(0, 255)\n",
    "ax.set_xlim(0, 2 * CHUNK)\n",
    "plt.setp(ax, xticks=[0, CHUNK, 2 * CHUNK], yticks=[0, 128, 255])\n"
   ]
  },
  {
   "cell_type": "code",
   "execution_count": null,
   "metadata": {},
   "outputs": [],
   "source": [
    "# muestra la gráfica\n",
    "plt.show(block=False)\n",
    "\n",
    "print('adquisicion iniciada')\n",
    "\n",
    "# medición del tiempo\n",
    "frame_count = 0\n",
    "start_time = time.time()\n",
    "\n",
    "#realiza 100 mediciones de paquetes de 2048 datos\n",
    "i = 1\n",
    "while i < 101:\n",
    "   \n",
    "    # datos en formato binario\n",
    "    data = stream.read(CHUNK)  \n",
    "    \n",
    "    # convierte a enteros, y crea un arreglo\n",
    "    data_int = struct.unpack(str(2 * CHUNK) + 'B', data)\n",
    "    \n",
    "    # añade offset de 128\n",
    "    data_np = np.array(data_int, dtype='b')[::2] + 128\n",
    "    \n",
    "    line.set_ydata(data_np)\n",
    "    i += 1\n",
    "    # actualiza la figura continuamente\n",
    "    try:\n",
    "        fig.canvas.draw()\n",
    "        fig.canvas.flush_events()\n",
    "        frame_count += 1\n",
    "        \n",
    "    except TclError:\n",
    "        \n",
    "        # calculate average frame rate\n",
    "        frame_rate = frame_count / (time.time() - start_time)\n",
    "        \n",
    "        print('stream stopped')\n",
    "        print('average frame rate = {:.0f} FPS'.format(frame_rate))\n",
    "        break\n"
   ]
  },
  {
   "cell_type": "code",
   "execution_count": null,
   "metadata": {},
   "outputs": [],
   "source": [
    "print(data_int)"
   ]
  },
  {
   "cell_type": "code",
   "execution_count": null,
   "metadata": {},
   "outputs": [],
   "source": [
    "mu=np.mean(data_np) # media\n",
    "\n",
    "sigma=np.std(data_np) #desviación estándar\n",
    "\n",
    "std_err = sigma / N # error estándar\n",
    "\n",
    "print( 'media: ', mu)\n",
    "print( 'desviacion estandar: ', sigma)\n",
    "print( 'error estandar: ', std_err)"
   ]
  },
  {
   "cell_type": "code",
   "execution_count": null,
   "metadata": {},
   "outputs": [],
   "source": [
    "bins=10 # número de bins del histograma\n",
    "%matplotlib inline\n",
    "n,bin_positions,p = plt.hist(data_np ,color = 'blue', edgecolor = 'black', bins = int(180/5)) # grafico el histograma\n",
    "bin_size=bin_positions[1]-bin_positions[0] # calculo el ancho de los bins del histograma\n",
    "\n",
    "x_gaussiana=np.linspace(mu-5*sigma,mu+5*sigma,num=100) # armo una lista de puntos donde quiero graficar la distribución de ajuste\n",
    "\n",
    "gaussiana=norm.pdf(x_gaussiana, mu, sigma)*N*bin_size # calculo la gaussiana que corresponde al histograma\n",
    "\n",
    "plt.plot(x_gaussiana,gaussiana,'r--', linewidth=3, label='ajuste 1') #grafico la gaussiana\n",
    "\n",
    "plt.show()"
   ]
  },
  {
   "cell_type": "code",
   "execution_count": null,
   "metadata": {},
   "outputs": [],
   "source": []
  }
 ],
 "metadata": {
  "kernelspec": {
   "display_name": "Python 3",
   "language": "python",
   "name": "python3"
  },
  "language_info": {
   "codemirror_mode": {
    "name": "ipython",
    "version": 3
   },
   "file_extension": ".py",
   "mimetype": "text/x-python",
   "name": "python",
   "nbconvert_exporter": "python",
   "pygments_lexer": "ipython3",
   "version": "3.6.5"
  }
 },
 "nbformat": 4,
 "nbformat_minor": 2
}
